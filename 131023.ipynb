{
 "cells": [
  {
   "cell_type": "markdown",
   "source": [
    "## Walmart Sales Prediction\n",
    "\n",
    "27.10.2023"
   ],
   "metadata": {
    "collapsed": false
   },
   "id": "981e763da732c69c"
  },
  {
   "cell_type": "code",
   "execution_count": 18,
   "outputs": [],
   "source": [
    "#Importing necessary libraries\n",
    "import modin.pandas as pd\n",
    "import numpy as np\n",
    "import seaborn as sns\n",
    "import matplotlib.pyplot as plt"
   ],
   "metadata": {
    "collapsed": false,
    "ExecuteTime": {
     "end_time": "2023-10-27T13:02:18.531124200Z",
     "start_time": "2023-10-27T13:02:18.502629300Z"
    }
   },
   "id": "8aeee2f3dbdc7d47"
  },
  {
   "cell_type": "code",
   "execution_count": 31,
   "outputs": [],
   "source": [
    "sales_data = pd.read_csv(\"Walmart.csv\")\n",
    "sales_data = sales_data.rename({'Holiday_Flag': \"is_holiday\"}, axis = 1)\n",
    "sales_data.columns = sales_data.columns.str.lower()"
   ],
   "metadata": {
    "collapsed": false,
    "ExecuteTime": {
     "end_time": "2023-10-27T13:02:37.538084300Z",
     "start_time": "2023-10-27T13:02:37.175533200Z"
    }
   },
   "id": "4bf336e19d23b718"
  },
  {
   "cell_type": "code",
   "execution_count": 32,
   "outputs": [
    {
     "data": {
      "text/plain": "   store        date  weekly_sales  is_holiday  temperature  fuel_price  \\\n0      1  05-02-2010    1643690.90           0        42.31       2.572   \n1      1  12-02-2010    1641957.44           1        38.51       2.548   \n2      1  19-02-2010    1611968.17           0        39.93       2.514   \n3      1  26-02-2010    1409727.59           0        46.63       2.561   \n4      1  05-03-2010    1554806.68           0        46.50       2.625   \n\n          cpi  unemployment  \n0  211.096358         8.106  \n1  211.242170         8.106  \n2  211.289143         8.106  \n3  211.319643         8.106  \n4  211.350143         8.106  ",
      "text/html": "<div>\n<style scoped>\n    .dataframe tbody tr th:only-of-type {\n        vertical-align: middle;\n    }\n\n    .dataframe tbody tr th {\n        vertical-align: top;\n    }\n\n    .dataframe thead th {\n        text-align: right;\n    }\n</style>\n<table border=\"1\" class=\"dataframe\">\n  <thead>\n    <tr style=\"text-align: right;\">\n      <th></th>\n      <th>store</th>\n      <th>date</th>\n      <th>weekly_sales</th>\n      <th>is_holiday</th>\n      <th>temperature</th>\n      <th>fuel_price</th>\n      <th>cpi</th>\n      <th>unemployment</th>\n    </tr>\n  </thead>\n  <tbody>\n    <tr>\n      <th>0</th>\n      <td>1</td>\n      <td>05-02-2010</td>\n      <td>1643690.90</td>\n      <td>0</td>\n      <td>42.31</td>\n      <td>2.572</td>\n      <td>211.096358</td>\n      <td>8.106</td>\n    </tr>\n    <tr>\n      <th>1</th>\n      <td>1</td>\n      <td>12-02-2010</td>\n      <td>1641957.44</td>\n      <td>1</td>\n      <td>38.51</td>\n      <td>2.548</td>\n      <td>211.242170</td>\n      <td>8.106</td>\n    </tr>\n    <tr>\n      <th>2</th>\n      <td>1</td>\n      <td>19-02-2010</td>\n      <td>1611968.17</td>\n      <td>0</td>\n      <td>39.93</td>\n      <td>2.514</td>\n      <td>211.289143</td>\n      <td>8.106</td>\n    </tr>\n    <tr>\n      <th>3</th>\n      <td>1</td>\n      <td>26-02-2010</td>\n      <td>1409727.59</td>\n      <td>0</td>\n      <td>46.63</td>\n      <td>2.561</td>\n      <td>211.319643</td>\n      <td>8.106</td>\n    </tr>\n    <tr>\n      <th>4</th>\n      <td>1</td>\n      <td>05-03-2010</td>\n      <td>1554806.68</td>\n      <td>0</td>\n      <td>46.50</td>\n      <td>2.625</td>\n      <td>211.350143</td>\n      <td>8.106</td>\n    </tr>\n  </tbody>\n</table>\n</div>"
     },
     "execution_count": 32,
     "metadata": {},
     "output_type": "execute_result"
    }
   ],
   "source": [
    "sales_data.head()"
   ],
   "metadata": {
    "collapsed": false,
    "ExecuteTime": {
     "end_time": "2023-10-27T13:02:38.216689200Z",
     "start_time": "2023-10-27T13:02:38.142358600Z"
    }
   },
   "id": "6d25fc09b0efa9d6"
  },
  {
   "cell_type": "code",
   "execution_count": 33,
   "outputs": [
    {
     "data": {
      "text/plain": "      store        date  weekly_sales  is_holiday  temperature  fuel_price  \\\n6430     45  28-09-2012     713173.95           0        64.88       3.997   \n6431     45  05-10-2012     733455.07           0        64.89       3.985   \n6432     45  12-10-2012     734464.36           0        54.47       4.000   \n6433     45  19-10-2012     718125.53           0        56.47       3.969   \n6434     45  26-10-2012     760281.43           0        58.85       3.882   \n\n             cpi  unemployment  \n6430  192.013558         8.684  \n6431  192.170412         8.667  \n6432  192.327265         8.667  \n6433  192.330854         8.667  \n6434  192.308899         8.667  ",
      "text/html": "<div>\n<style scoped>\n    .dataframe tbody tr th:only-of-type {\n        vertical-align: middle;\n    }\n\n    .dataframe tbody tr th {\n        vertical-align: top;\n    }\n\n    .dataframe thead th {\n        text-align: right;\n    }\n</style>\n<table border=\"1\" class=\"dataframe\">\n  <thead>\n    <tr style=\"text-align: right;\">\n      <th></th>\n      <th>store</th>\n      <th>date</th>\n      <th>weekly_sales</th>\n      <th>is_holiday</th>\n      <th>temperature</th>\n      <th>fuel_price</th>\n      <th>cpi</th>\n      <th>unemployment</th>\n    </tr>\n  </thead>\n  <tbody>\n    <tr>\n      <th>6430</th>\n      <td>45</td>\n      <td>28-09-2012</td>\n      <td>713173.95</td>\n      <td>0</td>\n      <td>64.88</td>\n      <td>3.997</td>\n      <td>192.013558</td>\n      <td>8.684</td>\n    </tr>\n    <tr>\n      <th>6431</th>\n      <td>45</td>\n      <td>05-10-2012</td>\n      <td>733455.07</td>\n      <td>0</td>\n      <td>64.89</td>\n      <td>3.985</td>\n      <td>192.170412</td>\n      <td>8.667</td>\n    </tr>\n    <tr>\n      <th>6432</th>\n      <td>45</td>\n      <td>12-10-2012</td>\n      <td>734464.36</td>\n      <td>0</td>\n      <td>54.47</td>\n      <td>4.000</td>\n      <td>192.327265</td>\n      <td>8.667</td>\n    </tr>\n    <tr>\n      <th>6433</th>\n      <td>45</td>\n      <td>19-10-2012</td>\n      <td>718125.53</td>\n      <td>0</td>\n      <td>56.47</td>\n      <td>3.969</td>\n      <td>192.330854</td>\n      <td>8.667</td>\n    </tr>\n    <tr>\n      <th>6434</th>\n      <td>45</td>\n      <td>26-10-2012</td>\n      <td>760281.43</td>\n      <td>0</td>\n      <td>58.85</td>\n      <td>3.882</td>\n      <td>192.308899</td>\n      <td>8.667</td>\n    </tr>\n  </tbody>\n</table>\n</div>"
     },
     "execution_count": 33,
     "metadata": {},
     "output_type": "execute_result"
    }
   ],
   "source": [
    "sales_data.tail()"
   ],
   "metadata": {
    "collapsed": false,
    "ExecuteTime": {
     "end_time": "2023-10-27T13:02:39.295974800Z",
     "start_time": "2023-10-27T13:02:39.241049500Z"
    }
   },
   "id": "944e7144f8c7c451"
  },
  {
   "cell_type": "code",
   "execution_count": 34,
   "outputs": [
    {
     "data": {
      "text/plain": "Index(['store', 'date', 'weekly_sales', 'is_holiday', 'temperature',\n       'fuel_price', 'cpi', 'unemployment'],\n      dtype='object')"
     },
     "execution_count": 34,
     "metadata": {},
     "output_type": "execute_result"
    }
   ],
   "source": [
    "sales_data.columns"
   ],
   "metadata": {
    "collapsed": false,
    "ExecuteTime": {
     "end_time": "2023-10-27T13:02:40.880509Z",
     "start_time": "2023-10-27T13:02:40.858382400Z"
    }
   },
   "id": "ee721a1440e2c05e"
  },
  {
   "cell_type": "code",
   "execution_count": 35,
   "outputs": [
    {
     "data": {
      "text/plain": "               count          mean            std         min         25%  \\\nstore         6435.0  2.300000e+01      12.988182       1.000      12.000   \nweekly_sales  6435.0  1.046965e+06  564366.622054  209986.250  553350.105   \nis_holiday    6435.0  6.993007e-02       0.255049       0.000       0.000   \ntemperature   6435.0  6.066378e+01      18.444933      -2.060      47.460   \nfuel_price    6435.0  3.358607e+00       0.459020       2.472       2.933   \ncpi           6435.0  1.715784e+02      39.356712     126.064     131.735   \nunemployment  6435.0  7.999151e+00       1.875885       3.879       6.891   \n\n                        50%           75%           max  \nstore             23.000000  3.400000e+01  4.500000e+01  \nweekly_sales  960746.040000  1.420159e+06  3.818686e+06  \nis_holiday         0.000000  0.000000e+00  1.000000e+00  \ntemperature       62.670000  7.494000e+01  1.001400e+02  \nfuel_price         3.445000  3.735000e+00  4.468000e+00  \ncpi              182.616521  2.127433e+02  2.272328e+02  \nunemployment       7.874000  8.622000e+00  1.431300e+01  ",
      "text/html": "<div>\n<style scoped>\n    .dataframe tbody tr th:only-of-type {\n        vertical-align: middle;\n    }\n\n    .dataframe tbody tr th {\n        vertical-align: top;\n    }\n\n    .dataframe thead th {\n        text-align: right;\n    }\n</style>\n<table border=\"1\" class=\"dataframe\">\n  <thead>\n    <tr style=\"text-align: right;\">\n      <th></th>\n      <th>count</th>\n      <th>mean</th>\n      <th>std</th>\n      <th>min</th>\n      <th>25%</th>\n      <th>50%</th>\n      <th>75%</th>\n      <th>max</th>\n    </tr>\n  </thead>\n  <tbody>\n    <tr>\n      <th>store</th>\n      <td>6435.0</td>\n      <td>2.300000e+01</td>\n      <td>12.988182</td>\n      <td>1.000</td>\n      <td>12.000</td>\n      <td>23.000000</td>\n      <td>3.400000e+01</td>\n      <td>4.500000e+01</td>\n    </tr>\n    <tr>\n      <th>weekly_sales</th>\n      <td>6435.0</td>\n      <td>1.046965e+06</td>\n      <td>564366.622054</td>\n      <td>209986.250</td>\n      <td>553350.105</td>\n      <td>960746.040000</td>\n      <td>1.420159e+06</td>\n      <td>3.818686e+06</td>\n    </tr>\n    <tr>\n      <th>is_holiday</th>\n      <td>6435.0</td>\n      <td>6.993007e-02</td>\n      <td>0.255049</td>\n      <td>0.000</td>\n      <td>0.000</td>\n      <td>0.000000</td>\n      <td>0.000000e+00</td>\n      <td>1.000000e+00</td>\n    </tr>\n    <tr>\n      <th>temperature</th>\n      <td>6435.0</td>\n      <td>6.066378e+01</td>\n      <td>18.444933</td>\n      <td>-2.060</td>\n      <td>47.460</td>\n      <td>62.670000</td>\n      <td>7.494000e+01</td>\n      <td>1.001400e+02</td>\n    </tr>\n    <tr>\n      <th>fuel_price</th>\n      <td>6435.0</td>\n      <td>3.358607e+00</td>\n      <td>0.459020</td>\n      <td>2.472</td>\n      <td>2.933</td>\n      <td>3.445000</td>\n      <td>3.735000e+00</td>\n      <td>4.468000e+00</td>\n    </tr>\n    <tr>\n      <th>cpi</th>\n      <td>6435.0</td>\n      <td>1.715784e+02</td>\n      <td>39.356712</td>\n      <td>126.064</td>\n      <td>131.735</td>\n      <td>182.616521</td>\n      <td>2.127433e+02</td>\n      <td>2.272328e+02</td>\n    </tr>\n    <tr>\n      <th>unemployment</th>\n      <td>6435.0</td>\n      <td>7.999151e+00</td>\n      <td>1.875885</td>\n      <td>3.879</td>\n      <td>6.891</td>\n      <td>7.874000</td>\n      <td>8.622000e+00</td>\n      <td>1.431300e+01</td>\n    </tr>\n  </tbody>\n</table>\n</div>"
     },
     "execution_count": 35,
     "metadata": {},
     "output_type": "execute_result"
    }
   ],
   "source": [
    "sales_data.describe().T"
   ],
   "metadata": {
    "collapsed": false,
    "ExecuteTime": {
     "end_time": "2023-10-27T13:02:42.799560Z",
     "start_time": "2023-10-27T13:02:42.399489300Z"
    }
   },
   "id": "10d23ff8396117d9"
  },
  {
   "cell_type": "code",
   "execution_count": 36,
   "outputs": [
    {
     "data": {
      "text/plain": "store             int64\ndate             object\nweekly_sales    float64\nis_holiday        int64\ntemperature     float64\nfuel_price      float64\ncpi             float64\nunemployment    float64\ndtype: object"
     },
     "execution_count": 36,
     "metadata": {},
     "output_type": "execute_result"
    }
   ],
   "source": [
    "sales_data.dtypes"
   ],
   "metadata": {
    "collapsed": false,
    "ExecuteTime": {
     "end_time": "2023-10-27T13:02:45.532123500Z",
     "start_time": "2023-10-27T13:02:45.523281900Z"
    }
   },
   "id": "bd42e282f2bd8f93"
  },
  {
   "cell_type": "code",
   "execution_count": 37,
   "outputs": [
    {
     "name": "stdout",
     "output_type": "stream",
     "text": [
      "<class 'modin.pandas.dataframe.DataFrame'>\n",
      "RangeIndex: 6435 entries, 0 to 6434\n",
      "Data columns (total 8 columns):\n",
      " #   Column        Non-Null Count  Dtype  \n",
      "---  ------        --------------  -----  \n",
      " 0   store         6435 non-null   int64  \n",
      " 1   date          6435 non-null   object \n",
      " 2   weekly_sales  6435 non-null   float64\n",
      " 3   is_holiday    6435 non-null   int64  \n",
      " 4   temperature   6435 non-null   float64\n",
      " 5   fuel_price    6435 non-null   float64\n",
      " 6   cpi           6435 non-null   float64\n",
      " 7   unemployment  6435 non-null   float64\n",
      "dtypes: float64(5), int64(2), object(1)\n",
      "memory usage: 402.3+ KB\n"
     ]
    }
   ],
   "source": [
    "sales_data.info()"
   ],
   "metadata": {
    "collapsed": false,
    "ExecuteTime": {
     "end_time": "2023-10-27T13:02:47.064263400Z",
     "start_time": "2023-10-27T13:02:46.279914600Z"
    }
   },
   "id": "996441e918b629a7"
  },
  {
   "cell_type": "code",
   "execution_count": 39,
   "outputs": [
    {
     "name": "stderr",
     "output_type": "stream",
     "text": [
      "FutureWarning: is_categorical_dtype is deprecated and will be removed in a future version. Use isinstance(dtype, CategoricalDtype) instead\n",
      "FutureWarning: use_inf_as_na option is deprecated and will be removed in a future version. Convert inf values to NaN before operating instead.\n"
     ]
    },
    {
     "data": {
      "text/plain": "<Axes: xlabel='weekly_sales', ylabel='Count'>"
     },
     "execution_count": 39,
     "metadata": {},
     "output_type": "execute_result"
    },
    {
     "data": {
      "text/plain": "<Figure size 640x480 with 1 Axes>",
      "image/png": "[encoded data removed]"
     },
     "metadata": {},
     "output_type": "display_data"
    }
   ],
   "source": [
    "sns.histplot(data = sales_data, x = \"weekly_sales\")"
   ],
   "metadata": {
    "collapsed": false,
    "ExecuteTime": {
     "end_time": "2023-10-27T13:02:54.114801Z",
     "start_time": "2023-10-27T13:02:53.491427900Z"
    }
   },
   "id": "59b49f8d9c064bdd"
  },
  {
   "cell_type": "code",
   "execution_count": 41,
   "outputs": [
    {
     "name": "stderr",
     "output_type": "stream",
     "text": [
      "FutureWarning: is_categorical_dtype is deprecated and will be removed in a future version. Use isinstance(dtype, CategoricalDtype) instead\n",
      "FutureWarning: use_inf_as_na option is deprecated and will be removed in a future version. Convert inf values to NaN before operating instead.\n"
     ]
    },
    {
     "data": {
      "text/plain": "<Axes: xlabel='temperature', ylabel='Count'>"
     },
     "execution_count": 41,
     "metadata": {},
     "output_type": "execute_result"
    },
    {
     "data": {
      "text/plain": "<Figure size 640x480 with 1 Axes>",
      "image/png": "[encoded data removed]"
     },
     "metadata": {},
     "output_type": "display_data"
    }
   ],
   "source": [
    "sns.histplot(data = sales_data, x = \"temperature\")"
   ],
   "metadata": {
    "collapsed": false,
    "ExecuteTime": {
     "end_time": "2023-10-27T13:03:29.661683Z",
     "start_time": "2023-10-27T13:03:29.041816900Z"
    }
   },
   "id": "47ea7b0e1e38b34e"
  },
  {
   "cell_type": "code",
   "execution_count": 42,
   "outputs": [
    {
     "name": "stderr",
     "output_type": "stream",
     "text": [
      "FutureWarning: is_categorical_dtype is deprecated and will be removed in a future version. Use isinstance(dtype, CategoricalDtype) instead\n",
      "FutureWarning: use_inf_as_na option is deprecated and will be removed in a future version. Convert inf values to NaN before operating instead.\n"
     ]
    },
    {
     "data": {
      "text/plain": "<Axes: xlabel='fuel_price', ylabel='Count'>"
     },
     "execution_count": 42,
     "metadata": {},
     "output_type": "execute_result"
    },
    {
     "data": {
      "text/plain": "<Figure size 640x480 with 1 Axes>",
      "image/png": "[encoded data removed]"
     },
     "metadata": {},
     "output_type": "display_data"
    }
   ],
   "source": [
    "sns.histplot(data = sales_data, x = \"fuel_price\")"
   ],
   "metadata": {
    "collapsed": false,
    "ExecuteTime": {
     "end_time": "2023-10-27T13:03:51.645872500Z",
     "start_time": "2023-10-27T13:03:50.997549700Z"
    }
   },
   "id": "f444f8b2de40e7a1"
  },
  {
   "cell_type": "code",
   "execution_count": 43,
   "outputs": [],
   "source": [],
   "metadata": {
    "collapsed": false,
    "ExecuteTime": {
     "end_time": "2023-10-27T13:05:57.138661700Z",
     "start_time": "2023-10-27T13:05:57.135011300Z"
    }
   },
   "id": "5cbdbc75b18c07d0"
  },
  {
   "cell_type": "code",
   "execution_count": null,
   "outputs": [],
   "source": [],
   "metadata": {
    "collapsed": false,
    "ExecuteTime": {
     "start_time": "2023-10-27T13:02:21.519888600Z"
    }
   },
   "id": "620c398ccc94100"
  },
  {
   "cell_type": "code",
   "execution_count": null,
   "outputs": [],
   "source": [],
   "metadata": {
    "collapsed": false,
    "ExecuteTime": {
     "end_time": "2023-10-27T13:02:21.528058200Z",
     "start_time": "2023-10-27T13:02:21.521479700Z"
    }
   },
   "id": "8900d81f59c5757b"
  },
  {
   "cell_type": "code",
   "execution_count": null,
   "outputs": [],
   "source": [],
   "metadata": {
    "collapsed": false,
    "ExecuteTime": {
     "start_time": "2023-10-27T13:02:21.521982600Z"
    }
   },
   "id": "a79d5735a240c7a"
  },
  {
   "cell_type": "code",
   "execution_count": null,
   "outputs": [],
   "source": [],
   "metadata": {
    "collapsed": false,
    "ExecuteTime": {
     "start_time": "2023-10-27T13:02:21.522986Z"
    }
   },
   "id": "3f071bcbb886fa9c"
  },
  {
   "cell_type": "code",
   "execution_count": null,
   "outputs": [],
   "source": [],
   "metadata": {
    "collapsed": false,
    "ExecuteTime": {
     "start_time": "2023-10-27T13:02:21.523996100Z"
    }
   },
   "id": "cad99d3070ad58e5"
  },
  {
   "cell_type": "code",
   "execution_count": null,
   "outputs": [],
   "source": [],
   "metadata": {
    "collapsed": false,
    "ExecuteTime": {
     "start_time": "2023-10-27T13:02:21.525001300Z"
    }
   },
   "id": "4f7fa6a66a60f781"
  },
  {
   "cell_type": "code",
   "execution_count": null,
   "outputs": [],
   "source": [],
   "metadata": {
    "collapsed": false,
    "ExecuteTime": {
     "start_time": "2023-10-27T13:02:21.526009300Z"
    }
   },
   "id": "84922de9c2a7fe03"
  }
 ],
 "metadata": {
  "kernelspec": {
   "display_name": "Python 3",
   "language": "python",
   "name": "python3"
  },
  "language_info": {
   "codemirror_mode": {
    "name": "ipython",
    "version": 2
   },
   "file_extension": ".py",
   "mimetype": "text/x-python",
   "name": "python",
   "nbconvert_exporter": "python",
   "pygments_lexer": "ipython2",
   "version": "2.7.6"
  }
 },
 "nbformat": 4,
 "nbformat_minor": 5
}
